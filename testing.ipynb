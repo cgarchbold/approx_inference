{
 "cells": [
  {
   "cell_type": "code",
   "execution_count": 14,
   "metadata": {},
   "outputs": [
    {
     "name": "stdout",
     "output_type": "stream",
     "text": [
      "[6.03314996e-01 1.45048290e-01 6.58268854e-03 5.31147420e-03\n",
      " 2.76604253e-20 2.76627577e-29 0.00000000e+00 6.75450265e-02\n",
      " 9.72232446e-02 7.49743432e-02]\n",
      "[7 0 6 ... 8 6 0]\n",
      "[3 8 8 ... 5 1 7]\n",
      "Files already downloaded and verified\n",
      "[3 8 8 ... 5 1 7]\n"
     ]
    }
   ],
   "source": [
    "import torchvision.datasets as datasets\n",
    "import torchvision.transforms as transforms\n",
    "from data import get_dataloaders\n",
    "from sklearn.metrics import accuracy_score, precision_score, recall_score, f1_score\n",
    "import numpy as np\n",
    "import pickle\n",
    "\n",
    "def load_cifar10_labels(batch_file):\n",
    "    \"\"\"Load labels from a CIFAR-10 batch file.\"\"\"\n",
    "    with open(batch_file, 'rb') as f:\n",
    "        batch = pickle.load(f, encoding='latin1')\n",
    "    return np.array(batch['labels'])\n",
    "\n",
    "def compute_metrics(y_true, y_pred, average='macro'):\n",
    "    \"\"\"Compute classification metrics.\"\"\"\n",
    "    acc = accuracy_score(y_true, y_pred)\n",
    "    precision = precision_score(y_true, y_pred, average=average)\n",
    "    recall = recall_score(y_true, y_pred, average=average)\n",
    "    f1 = f1_score(y_true, y_pred, average=average)\n",
    "    return acc, precision, recall, f1\n",
    "\n",
    "# Load CIFAR dataset\n",
    "def load_cifar_labels():\n",
    "    transform = transforms.Compose([transforms.ToTensor()])\n",
    "    cifar_test = datasets.CIFAR10(root='./data', train=False, download=True, transform=transform)\n",
    "    # Extract true labels\n",
    "    y_true = np.array([label for _, label in cifar_test])\n",
    "    return y_true\n",
    "\n",
    "cifar_hmc = np.genfromtxt(\"HMC_cifar_probs.csv\")\n",
    "print(cifar_hmc[1])\n",
    "y_pred = np.argmax(cifar_hmc[:10000], axis=1)\n",
    "print(y_pred)\n",
    "\n",
    "# Path to the CIFAR-10 dataset\n",
    "cifar10_path = \"./data/cifar-10-batches-py/\"\n",
    "\n",
    "# Load test batch labels\n",
    "test_labels = load_cifar10_labels(cifar10_path + \"test_batch\")\n",
    "print(test_labels)\n",
    "\n",
    "#data = np.load(\"evaluation_phase.npz\")\n",
    "#y_true = data[\"y_test\"]\n",
    "\n",
    "y_true = load_cifar_labels()\n",
    "print(y_true)"
   ]
  },
  {
   "cell_type": "code",
   "execution_count": 9,
   "metadata": {},
   "outputs": [
    {
     "name": "stdout",
     "output_type": "stream",
     "text": [
      "Accuracy: 0.8797\n",
      "Precision: 0.8793\n",
      "Recall: 0.8797\n",
      "F1 Score: 0.8794\n"
     ]
    }
   ],
   "source": [
    "# Compute metrics\n",
    "acc, precision, recall, f1 = compute_metrics(y_true, y_pred, average='macro')\n",
    "\n",
    "# Print metrics\n",
    "print(f\"Accuracy: {acc:.4f}\")\n",
    "print(f\"Precision: {precision:.4f}\")\n",
    "print(f\"Recall: {recall:.4f}\")\n",
    "print(f\"F1 Score: {f1:.4f}\")"
   ]
  }
 ],
 "metadata": {
  "kernelspec": {
   "display_name": "base",
   "language": "python",
   "name": "python3"
  },
  "language_info": {
   "codemirror_mode": {
    "name": "ipython",
    "version": 3
   },
   "file_extension": ".py",
   "mimetype": "text/x-python",
   "name": "python",
   "nbconvert_exporter": "python",
   "pygments_lexer": "ipython3",
   "version": "3.9.20"
  }
 },
 "nbformat": 4,
 "nbformat_minor": 2
}
